{
 "cells": [
  {
   "cell_type": "code",
   "execution_count": 3,
   "metadata": {},
   "outputs": [
    {
     "name": "stdout",
     "output_type": "stream",
     "text": [
      "['SAS', 'R', 'PYTHON', 'SPSS']\n",
      "['SAS', 'R', 'PYTHON']\n",
      "['SAS', 'R', 'PYTHON', 'SPARK']\n"
     ]
    }
   ],
   "source": [
    "input_list = ['SAS', 'R', 'PYTHON', 'SPSS']\n",
    "print(input_list)\n",
    "input_list.remove('SPSS')\n",
    "print(input_list)\n",
    "input_list.append('SPARK')\n",
    "print(input_list)"
   ]
  },
  {
   "cell_type": "code",
   "execution_count": 4,
   "metadata": {},
   "outputs": [
    {
     "name": "stdout",
     "output_type": "stream",
     "text": [
      "['I love Data Science ', ' Python']\n"
     ]
    }
   ],
   "source": [
    "input_str = 'I love Data Science & Python'\n",
    "final_list = input_str.split('&')    \n",
    "print(final_list)"
   ]
  },
  {
   "cell_type": "code",
   "execution_count": 6,
   "metadata": {},
   "outputs": [
    {
     "name": "stdout",
     "output_type": "stream",
     "text": [
      "Pythons syntax is easy to learn & Pythons syntax is very clear\n"
     ]
    }
   ],
   "source": [
    "inp =  ['Pythons syntax is easy to learn', 'Pythons syntax is very clear'] \n",
    "out = ' & '.join(inp)\n",
    "print(out)"
   ]
  },
  {
   "cell_type": "code",
   "execution_count": 9,
   "metadata": {},
   "outputs": [
    {
     "name": "stdout",
     "output_type": "stream",
     "text": [
      "[['SAS', 'R'], ['Tableau', 'SQL'], ['Python', 'Java']]\n",
      "Python\n"
     ]
    }
   ],
   "source": [
    "input_list = [['SAS','R'],['Tableau','SQL'],['Python','Java']]\n",
    "print(input_list)\n",
    "print(input_list[2][0])"
   ]
  },
  {
   "cell_type": "code",
   "execution_count": 14,
   "metadata": {},
   "outputs": [
    {
     "name": "stdout",
     "output_type": "stream",
     "text": [
      "s\n"
     ]
    }
   ],
   "source": [
    "t = (\"disco\", 12, 4.5)\n",
    "print(t[0][2])"
   ]
  },
  {
   "cell_type": "code",
   "execution_count": 21,
   "metadata": {},
   "outputs": [
    {
     "name": "stdout",
     "output_type": "stream",
     "text": [
      "Input string-\n",
      "ama\n",
      "1\n"
     ]
    }
   ],
   "source": [
    "#Palindrome \n",
    "inp_str = input('Input string-\\n')\n",
    "if inp_str == inp_str[::-1]:\n",
    "    print(1)\n",
    "else:\n",
    "    print(0)"
   ]
  },
  {
   "cell_type": "code",
   "execution_count": 22,
   "metadata": {},
   "outputs": [
    {
     "name": "stdout",
     "output_type": "stream",
     "text": [
      "Input string-\n",
      "Write a program that satisfies below examples\n",
      "examples below satisfies that program a Write\n"
     ]
    }
   ],
   "source": [
    "#Reverse word\n",
    "inp_str = input('Input string-\\n')\n",
    "words = inp_str.split(' ') \n",
    "out_reverse = ' '.join(reversed(words))\n",
    "print(out_reverse)"
   ]
  },
  {
   "cell_type": "code",
   "execution_count": 40,
   "metadata": {},
   "outputs": [],
   "source": [
    "def str_formatting(inp1):\n",
    "    print(f'Input - {inp1}')\n",
    "    inp_list = inp1.split(' ')\n",
    "    con_str = '_'.join(inp_list)\n",
    "    print(f'Output - {con_str.lower()}')"
   ]
  },
  {
   "cell_type": "code",
   "execution_count": 41,
   "metadata": {},
   "outputs": [
    {
     "name": "stdout",
     "output_type": "stream",
     "text": [
      "Input - caloRie ConsuMed\n",
      "Output - calorie_consumed\n",
      "Input - data science\n",
      "Output - data_science\n",
      "Input - datascience\n",
      "Output - datascience\n"
     ]
    }
   ],
   "source": [
    "str_formatting('caloRie ConsuMed')\n",
    "str_formatting('data science')\n",
    "str_formatting('datascience')"
   ]
  },
  {
   "cell_type": "code",
   "execution_count": null,
   "metadata": {},
   "outputs": [],
   "source": [
    "1. How will you extract ‘love’ from the string S = “I love Python”? (More than one\n",
    "option may be correct.).\n",
    "a. S[2:5]\n",
    "b. S[2:6]\n",
    "c. S[3:7]\n",
    "d. S[-11:-7]\n",
    "e. S[-11:-8]\n",
    "     \n",
    "Ans - b and d"
   ]
  },
  {
   "cell_type": "code",
   "execution_count": null,
   "metadata": {},
   "outputs": [],
   "source": [
    "2. What will the output of 3 * 3 ** 3 be?\n",
    "a. 9\n",
    "b. 27\n",
    "c. 81\n",
    "d. 729\n",
    "\n",
    "Ans - c"
   ]
  },
  {
   "cell_type": "code",
   "execution_count": 49,
   "metadata": {},
   "outputs": [
    {
     "data": {
      "text/plain": [
       "81"
      ]
     },
     "execution_count": 49,
     "metadata": {},
     "output_type": "execute_result"
    }
   ],
   "source": [
    "3. What will the output be of ((500//7) % 5) ** 3?\n",
    "a. 1\n",
    "b. 2.91\n",
    "c. 71.42\n",
    "d. 0\n",
    "e. 8\n",
    "\n",
    "Ans - a"
   ]
  },
  {
   "cell_type": "code",
   "execution_count": 54,
   "metadata": {},
   "outputs": [],
   "source": [
    "4. If you have a tuple T = (3, 5, 7, 11), what will the output of T.append(9) be?\n",
    "a. (3, 5, 7, 9, 11)\n",
    "b. (9, 3, 5, 7, 11)\n",
    "c. (3, 5, 7, 11, 9)\n",
    "d. Error\n",
    "\n",
    "Ans - d"
   ]
  },
  {
   "cell_type": "code",
   "execution_count": null,
   "metadata": {},
   "outputs": [],
   "source": [
    "5. What will the output of the following program be?\n",
    "a. Vikas\n",
    "b. Mahima\n",
    "c. y\n",
    "d. A\n",
    "Ans - Question is not complete."
   ]
  },
  {
   "cell_type": "code",
   "execution_count": 6,
   "metadata": {
    "scrolled": true
   },
   "outputs": [
    {
     "name": "stdout",
     "output_type": "stream",
     "text": [
      "[32, 34, 12, 27, 33, (14, 19)]\n",
      "6\n"
     ]
    }
   ],
   "source": [
    "l = [32, 34, 12, 27, 33]\n",
    "l.append((14, 19))\n",
    "print(l)\n",
    "print(len(l))"
   ]
  },
  {
   "cell_type": "code",
   "execution_count": null,
   "metadata": {},
   "outputs": [],
   "source": [
    "6. What will the output of the following code be?\n",
    "\n",
    "a. 5\n",
    "b. 6\n",
    "c. 7\n",
    "d. The code will throw an error\n",
    "\n",
    "Ans - b"
   ]
  },
  {
   "cell_type": "code",
   "execution_count": null,
   "metadata": {},
   "outputs": [],
   "source": [
    "7. Which of the following statements is incorrect regarding sets in Python?\n",
    "a. Sets do not contain duplicate elements\n",
    "b. Sets are represented using curly braces {}\n",
    "c. Sets are immutable\n",
    "d. All of the above\n",
    "\n",
    "Ans - d"
   ]
  },
  {
   "cell_type": "code",
   "execution_count": 7,
   "metadata": {},
   "outputs": [
    {
     "name": "stdout",
     "output_type": "stream",
     "text": [
      "1\n",
      "2\n",
      "3\n"
     ]
    }
   ],
   "source": [
    "D = {1:['Raj', 22], 2:['Simran', 21], 3:['Rahul', 40]}\n",
    "for val in D:\n",
    "    print(val)"
   ]
  },
  {
   "cell_type": "code",
   "execution_count": null,
   "metadata": {},
   "outputs": [],
   "source": [
    "Whatwilltheoutputbeofthefollowingcode?\n",
    "  D = {l:['Raj', 22), 2:('Simran',21], 3:['Rahul', 40]}\n",
    "for val in D:\n",
    "print(val)\n",
    "a. 1 2 3\n",
    "b. [‘Raj’, 22] [‘Simran’, 21]\n",
    "[‘Rahul’, 40]\n",
    "c. 1 [‘Raj’, 22]\n",
    "2 [‘Simran’, 21]\n",
    "3 [‘Rahul’, 40]\n",
    "d. ‘Raj’\n",
    "‘Simran’ ‘Rahul’\n",
    "                         \n",
    "Ans - a    "
   ]
  },
  {
   "cell_type": "code",
   "execution_count": null,
   "metadata": {},
   "outputs": [],
   "source": [
    "9. What will the ‘comprehension equivalent’ be for the following snippet of code?\n",
    "a. word for sentence in paragraph for word in sentence.split()\n",
    "b. [word for sentence in paragraph for word in sentence.split()]\n",
    "c. word for word in sentence.split() for sentence in paragraph\n",
    "d. [word for word in sentence.split() for sentence in paragraph]\n",
    "\n",
    "Ans - b"
   ]
  },
  {
   "cell_type": "code",
   "execution_count": null,
   "metadata": {},
   "outputs": [],
   "source": [
    "What will be the output of this code?\n",
    "a. [10, 9, 8, 7, 6, 5, 4, 3, 2, 1]\n",
    "b. [9, 8, 7, 6, 5, 4, 3, 2]\n",
    "c. [9, 8, 7, 6, 5, 4, 3, 2, 1]\n",
    "d. [10, 9, 8, 7, 6, 5, 4, 3, 2]\n",
    "\n",
    "Ans - d"
   ]
  },
  {
   "cell_type": "code",
   "execution_count": 8,
   "metadata": {},
   "outputs": [
    {
     "name": "stdout",
     "output_type": "stream",
     "text": [
      "[10, 9, 8, 7, 6, 5, 4, 3, 2]\n"
     ]
    }
   ],
   "source": [
    "print(list(range(10, 1, -1)))"
   ]
  }
 ],
 "metadata": {
  "kernelspec": {
   "display_name": "Python 3",
   "language": "python",
   "name": "python3"
  },
  "language_info": {
   "codemirror_mode": {
    "name": "ipython",
    "version": 3
   },
   "file_extension": ".py",
   "mimetype": "text/x-python",
   "name": "python",
   "nbconvert_exporter": "python",
   "pygments_lexer": "ipython3",
   "version": "3.7.1"
  }
 },
 "nbformat": 4,
 "nbformat_minor": 4
}
